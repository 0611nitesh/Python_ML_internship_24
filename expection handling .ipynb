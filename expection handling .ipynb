{
 "cells": [
  {
   "cell_type": "raw",
   "id": "5d5379cb-2510-41e7-bc1a-88ee93544f2d",
   "metadata": {},
   "source": [
    "print(\"Hello world\")\n",
    "\n",
    "L\n",
    "\n",
    "print(L[3])\n",
    "try:\n",
    "    print(L[4])\n",
    "except:\n",
    "    print(\"invalid index\")\n",
    "finally:\n",
    "print(\"end of code\")"
   ]
  },
  {
   "cell_type": "code",
   "execution_count": null,
   "id": "72d6a8fc-6ddb-488e-ad3f-094c7fd126fe",
   "metadata": {},
   "outputs": [],
   "source": []
  },
  {
   "cell_type": "code",
   "execution_count": null,
   "id": "cc739db3-9374-4bef-8898-e235a80778f0",
   "metadata": {},
   "outputs": [],
   "source": [
    "print(\"Hello world\")\n",
    "\n",
    "L\n",
    "\n",
    "print(L[3])\n",
    "try:\n",
    "    print(L[4])\n",
    "except:\n",
    "    print(\"invalid index\")\n",
    "finally:\n",
    "print(\"end of code\")"
   ]
  },
  {
   "cell_type": "code",
   "execution_count": 4,
   "id": "64ee2eba-dd72-40cb-87ab-8de2a95e394d",
   "metadata": {},
   "outputs": [
    {
     "name": "stdout",
     "output_type": "stream",
     "text": [
      "B can't be Zero\n",
      "code exceuted sucessfully\n"
     ]
    }
   ],
   "source": [
    "a=10\n",
    "b=0\n",
    "\n",
    "try :\n",
    "    print(a/b)\n",
    "except ZeroDivisionError:\n",
    "    print(\"B can't be Zero\")\n",
    "finally:\n",
    "    print(\"code exceuted sucessfully\")"
   ]
  },
  {
   "cell_type": "code",
   "execution_count": 5,
   "id": "32344a6f-8b7a-406f-9336-eb51a762b73f",
   "metadata": {},
   "outputs": [
    {
     "name": "stdout",
     "output_type": "stream",
     "text": [
      "2.0\n",
      "B can't be Zero\n",
      "code exceuted sucessfully\n"
     ]
    }
   ],
   "source": [
    "a=10\n",
    "b=5\n",
    "\n",
    "try :\n",
    "    print(a/b)\n",
    "    L[8]\n",
    "except:\n",
    "    print(\"B can't be Zero\")\n",
    "finally:\n",
    "    print(\"code exceuted sucessfully\")"
   ]
  },
  {
   "cell_type": "code",
   "execution_count": 10,
   "id": "bfb50367-badf-4a1a-9056-c9f32a35494a",
   "metadata": {},
   "outputs": [
    {
     "name": "stdout",
     "output_type": "stream",
     "text": [
      "2.0\n",
      "code exceuted sucessfully\n"
     ]
    },
    {
     "ename": "NameError",
     "evalue": "name 'ZeroDivisionerror' is not defined",
     "output_type": "error",
     "traceback": [
      "\u001b[1;31m---------------------------------------------------------------------------\u001b[0m",
      "\u001b[1;31mNameError\u001b[0m                                 Traceback (most recent call last)",
      "Cell \u001b[1;32mIn[10], line 6\u001b[0m\n\u001b[0;32m      5\u001b[0m     \u001b[38;5;28mprint\u001b[39m(a\u001b[38;5;241m/\u001b[39mb)\n\u001b[1;32m----> 6\u001b[0m     \u001b[43mL\u001b[49m[\u001b[38;5;241m8\u001b[39m]\n\u001b[0;32m      7\u001b[0m \u001b[38;5;28;01mexcept\u001b[39;00m ZeroDivisionerror:\n",
      "\u001b[1;31mNameError\u001b[0m: name 'L' is not defined",
      "\nDuring handling of the above exception, another exception occurred:\n",
      "\u001b[1;31mNameError\u001b[0m                                 Traceback (most recent call last)",
      "Cell \u001b[1;32mIn[10], line 7\u001b[0m\n\u001b[0;32m      5\u001b[0m     \u001b[38;5;28mprint\u001b[39m(a\u001b[38;5;241m/\u001b[39mb)\n\u001b[0;32m      6\u001b[0m     L[\u001b[38;5;241m8\u001b[39m]\n\u001b[1;32m----> 7\u001b[0m \u001b[38;5;28;01mexcept\u001b[39;00m \u001b[43mZeroDivisionerror\u001b[49m:\n\u001b[0;32m      8\u001b[0m     \u001b[38;5;28mprint\u001b[39m(\u001b[38;5;124m\"\u001b[39m\u001b[38;5;124mB can\u001b[39m\u001b[38;5;124m'\u001b[39m\u001b[38;5;124mt be Zero\u001b[39m\u001b[38;5;124m\"\u001b[39m)\n\u001b[0;32m      9\u001b[0m \u001b[38;5;28;01mexcept\u001b[39;00m \u001b[38;5;167;01mNameError\u001b[39;00m:\n",
      "\u001b[1;31mNameError\u001b[0m: name 'ZeroDivisionerror' is not defined"
     ]
    }
   ],
   "source": [
    "a=10\n",
    "b=5\n",
    "\n",
    "try :\n",
    "    print(a/b)\n",
    "    L[8]\n",
    "except ZeroDivisionerror:\n",
    "    print(\"B can't be Zero\")\n",
    "except NameError:\n",
    "    print(\"Incorrect Identifier\")\n",
    "except IndexError:\n",
    "    print(\"Trying to fetch the non existing data\")\n",
    "finally:\n",
    "    print(\"code exceuted sucessfully\")"
   ]
  },
  {
   "cell_type": "code",
   "execution_count": 8,
   "id": "1f49f7be-8289-40ac-99bf-b177989f5913",
   "metadata": {},
   "outputs": [
    {
     "name": "stdout",
     "output_type": "stream",
     "text": [
      "division by zero\n",
      "code exceuted sucessfully\n"
     ]
    }
   ],
   "source": [
    "a=10\n",
    "b=0\n",
    "\n",
    "try :\n",
    "    print(a/b)\n",
    "    L[8]\n",
    "except Exception as e:\n",
    "    print(e)\n",
    "finally:\n",
    "    print(\"code exceuted sucessfully\")"
   ]
  },
  {
   "cell_type": "code",
   "execution_count": null,
   "id": "de0b1b29-10d0-40d1-bf34-7fd0f0e0ce0b",
   "metadata": {},
   "outputs": [],
   "source": []
  }
 ],
 "metadata": {
  "kernelspec": {
   "display_name": "Python 3 (ipykernel)",
   "language": "python",
   "name": "python3"
  },
  "language_info": {
   "codemirror_mode": {
    "name": "ipython",
    "version": 3
   },
   "file_extension": ".py",
   "mimetype": "text/x-python",
   "name": "python",
   "nbconvert_exporter": "python",
   "pygments_lexer": "ipython3",
   "version": "3.12.4"
  }
 },
 "nbformat": 4,
 "nbformat_minor": 5
}
