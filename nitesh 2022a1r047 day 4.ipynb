{
 "cells": [
  {
   "cell_type": "code",
   "execution_count": 1,
   "id": "58abe4e1-669a-4825-83cd-2029f4c0c1a9",
   "metadata": {},
   "outputs": [],
   "source": [
    "import numpy as np "
   ]
  },
  {
   "cell_type": "code",
   "execution_count": 3,
   "id": "81a23053-f234-4ece-9cc2-b00f27dc6c7c",
   "metadata": {},
   "outputs": [],
   "source": [
    "scores = np.array([[85,90,78],\n",
    "                  [92,88,95],\n",
    "                  [76,95,85,],\n",
    "                  [90,85,92],\n",
    "                  [88,76,89]])"
   ]
  },
  {
   "cell_type": "code",
   "execution_count": 4,
   "id": "9951cd4e-dcd2-4bc8-820c-f3a95314b61d",
   "metadata": {},
   "outputs": [
    {
     "data": {
      "text/plain": [
       "array([[85, 90, 78],\n",
       "       [92, 88, 95],\n",
       "       [76, 95, 85],\n",
       "       [90, 85, 92],\n",
       "       [88, 76, 89]])"
      ]
     },
     "execution_count": 4,
     "metadata": {},
     "output_type": "execute_result"
    }
   ],
   "source": [
    "scores"
   ]
  },
  {
   "cell_type": "code",
   "execution_count": null,
   "id": "e094c14d-1948-4a84-a7b2-31c09b3651f2",
   "metadata": {},
   "outputs": [],
   "source": []
  },
  {
   "cell_type": "code",
   "execution_count": null,
   "id": "d4db12a7-c364-4116-bb14-4ec3cfab71cc",
   "metadata": {},
   "outputs": [],
   "source": []
  }
 ],
 "metadata": {
  "kernelspec": {
   "display_name": "Python 3 (ipykernel)",
   "language": "python",
   "name": "python3"
  },
  "language_info": {
   "codemirror_mode": {
    "name": "ipython",
    "version": 3
   },
   "file_extension": ".py",
   "mimetype": "text/x-python",
   "name": "python",
   "nbconvert_exporter": "python",
   "pygments_lexer": "ipython3",
   "version": "3.12.4"
  }
 },
 "nbformat": 4,
 "nbformat_minor": 5
}
