{
 "cells": [
  {
   "cell_type": "code",
   "execution_count": null,
   "id": "c89314ac-b2c1-4851-bc99-d75fa4b5ab8f",
   "metadata": {},
   "outputs": [],
   "source": [
    "grades ={\n",
    "    \"S1\":\"A\"\n",
    "    \"S2\":\"B\"\n",
    "    \"S3\":\"A\"\n",
    "    \"S4\":\"B\"\n",
    "    \"S5\":\"C \n",
    "    \"S6\":\"B\"\n",
    "    \"S7\":\"D\"\n",
    "}\n",
    "print(grades)\n"
   ]
  },
  {
   "cell_type": "code",
   "execution_count": 3,
   "id": "0630c693-331f-47d6-a557-b7a4f66903eb",
   "metadata": {},
   "outputs": [
    {
     "name": "stdout",
     "output_type": "stream",
     "text": [
      "{1: 2, 2: 3, 3: 3, 4: 1}\n"
     ]
    }
   ],
   "source": [
    "DIP={'A':1,'B':1,'C':2,'D':3,'E':2,'F':2,'G':3,'H':4,'I':3}\n",
    "DOP={}\n",
    "\n",
    "for i in DIP.values():\n",
    "    if i in DOP.keys():\n",
    "        DOP[i]=DOP[i]+1\n",
    "    else:\n",
    "        DOP[i]=1\n",
    "print(DOP)"
   ]
  },
  {
   "cell_type": "code",
   "execution_count": 8,
   "id": "1eda436e-5b86-4ba0-83a1-16d2ec3de7ee",
   "metadata": {},
   "outputs": [
    {
     "name": "stdin",
     "output_type": "stream",
     "text": [
      " 25\n",
      " 22\n"
     ]
    },
    {
     "name": "stdout",
     "output_type": "stream",
     "text": [
      "47\n"
     ]
    }
   ],
   "source": [
    "def addnum():\n",
    "    a=int (input())\n",
    "    b=int (input())\n",
    "    c=a+b\n",
    "    print(c)\n",
    "    return\n",
    "\n",
    "if __name__==\"__main__\":\n",
    "    addnum()"
   ]
  },
  {
   "cell_type": "code",
   "execution_count": 13,
   "id": "3ff910d3-c5d3-4a29-a6cf-9ee6929e4c7d",
   "metadata": {},
   "outputs": [],
   "source": [
    "def is_prime(n):\n",
    "    if n <= 1:\n",
    "        return False\n",
    "    for i in range(2, int(n * 0.5) + 1):\n",
    "        if n % i == 0:\n",
    "            return False\n",
    "    return True\n",
    "\n",
    "if __name__ == \"_main_\":\n",
    "    \n",
    "    n = int(input(\"Enter a number to check if it's prime: \"))\n",
    "    if is_prime(n):\n",
    "        print(f\"{n} is a prime number.\")\n",
    "    else:\n",
    "        print(f\"{n} is not a prime number.\")"
   ]
  },
  {
   "cell_type": "code",
   "execution_count": 13,
   "id": "9d558681-757a-4b6a-ab12-be8addeebe77",
   "metadata": {},
   "outputs": [],
   "source": [
    "\n"
   ]
  }
 ],
 "metadata": {
  "kernelspec": {
   "display_name": "Python 3 (ipykernel)",
   "language": "python",
   "name": "python3"
  },
  "language_info": {
   "codemirror_mode": {
    "name": "ipython",
    "version": 3
   },
   "file_extension": ".py",
   "mimetype": "text/x-python",
   "name": "python",
   "nbconvert_exporter": "python",
   "pygments_lexer": "ipython3",
   "version": "3.12.4"
  }
 },
 "nbformat": 4,
 "nbformat_minor": 5
}
