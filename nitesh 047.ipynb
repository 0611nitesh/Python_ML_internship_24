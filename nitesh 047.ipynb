{
 "cells": [
  {
   "cell_type": "code",
   "execution_count": 1,
   "id": "8ebf9991-9781-45c5-b93a-2e7e72d53c2d",
   "metadata": {},
   "outputs": [
    {
     "name": "stdout",
     "output_type": "stream",
     "text": [
      "                      *    \n",
      "                 *    *    \n",
      "            *    *    *    \n",
      "       *    *    *    *    \n",
      "  *    *    *    *    *    \n"
     ]
    }
   ],
   "source": [
    "rows = 5\n",
    "\n",
    "spaces = 22\n",
    "\n",
    "\n",
    "for i in range(rows):\n",
    "\n",
    "    print(\" \" * spaces, end=\"\")\n",
    "   \n",
    "    for j in range(i + 1):\n",
    "        print(\"*\", end=\"    \")\n",
    "    print()\n",
    "    spaces -= 5\n"
   ]
  },
  {
   "cell_type": "code",
   "execution_count": null,
   "id": "8f1ec3fd-13d1-4b53-95f7-f9dd0e7f3ce6",
   "metadata": {},
   "outputs": [],
   "source": [
    "def get_number(prompt):\n",
    "    while True:\n",
    "        try:\n",
    "            number = float(input(prompt))\n",
    "            return number\n",
    "        except ValueError:\n",
    "            print(\"Invalid input. Please enter a valid number.\")\n",
    "\n",
    "def divide_numbers():\n",
    "    while True:\n",
    "        try:\n",
    "            num1 = get_number(\"Enter the first number: \")\n",
    "            num2 = get_number(\"Enter the second number: \")\n",
    "            result = num1 / num2\n",
    "            print(f\"The result of {num1} divided by {num2} is {result}\")\n",
    "            break\n",
    "        except ZeroDivisionError:\n",
    "            print(\"Division by zero is not allowed. Please enter a non-zero second number.\")\n",
    "\n",
    "if __name__ == \"__main__\":\n",
    "    divide_numbers()"
   ]
  },
  {
   "cell_type": "code",
   "execution_count": null,
   "id": "4affb90c-e4db-4cfc-b4eb-f7a60059b7d0",
   "metadata": {},
   "outputs": [],
   "source": []
  }
 ],
 "metadata": {
  "kernelspec": {
   "display_name": "Python 3 (ipykernel)",
   "language": "python",
   "name": "python3"
  },
  "language_info": {
   "codemirror_mode": {
    "name": "ipython",
    "version": 3
   },
   "file_extension": ".py",
   "mimetype": "text/x-python",
   "name": "python",
   "nbconvert_exporter": "python",
   "pygments_lexer": "ipython3",
   "version": "3.12.4"
  }
 },
 "nbformat": 4,
 "nbformat_minor": 5
}
